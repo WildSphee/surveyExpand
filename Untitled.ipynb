{
 "cells": [
  {
   "cell_type": "code",
   "execution_count": 1,
   "id": "342a0cee",
   "metadata": {},
   "outputs": [],
   "source": [
    "import pandas as pd\n",
    "import numpy as np\n",
    "from datetime import timedelta\n",
    "import random\n",
    "import math"
   ]
  },
  {
   "cell_type": "code",
   "execution_count": 2,
   "id": "6b5f98c8",
   "metadata": {
    "scrolled": true
   },
   "outputs": [
    {
     "data": {
      "text/html": [
       "<div>\n",
       "<style scoped>\n",
       "    .dataframe tbody tr th:only-of-type {\n",
       "        vertical-align: middle;\n",
       "    }\n",
       "\n",
       "    .dataframe tbody tr th {\n",
       "        vertical-align: top;\n",
       "    }\n",
       "\n",
       "    .dataframe thead th {\n",
       "        text-align: right;\n",
       "    }\n",
       "</style>\n",
       "<table border=\"1\" class=\"dataframe\">\n",
       "  <thead>\n",
       "    <tr style=\"text-align: right;\">\n",
       "      <th></th>\n",
       "      <th>Timestamp</th>\n",
       "      <th>Unnamed: 1</th>\n",
       "      <th>1. Extrinsic work values ? good salary, job security, working conditions\\n1.1     A good salary is crucial for any job I consider.</th>\n",
       "      <th>1. Extrinsic work values ? good salary, job security, working conditions\\n1.2     Job security is important to me.</th>\n",
       "      <th>2. Intrinsic work values ? growth &amp; development, learning, achievement\\n2.1     I seek jobs that offer interesting and challenging work.</th>\n",
       "      <th>2. Intrinsic work values ? growth &amp; development, learning, achievement\\n2.2     Having independence in my job is vital.</th>\n",
       "      <th>3. Social/Altruistic work values ? help others, positive impact on society, contribute to environmental sustainability \\n3.1     I value opportunities to help others through my work.</th>\n",
       "      <th>3. Social/Altruistic work values ? help others, positive impact on society, contribute to environmental sustainability \\n3.2     I value a job that allows me to make a positive contribution to society.</th>\n",
       "      <th>4. Prestige work values ? prestige job title, authority or decision making, well-regarded or respect\\n4.1     The social status associated with my job is important.</th>\n",
       "      <th>4. Prestige work values ? prestige job title, authority or decision making, well-regarded or respect\\n4.2     Gaining recognition through my work is important.</th>\n",
       "      <th>...</th>\n",
       "      <th>12. From your chosen ends in above questions. Rank them from 1 to 5 in order how much they influence your work behaviour and attitudes, with 1 being the most influential and 5 being the least influential. [Long-term vs. Short-term Orientation: Emphasis on long-term planning and preparation for future rewards (Long-term orientation) or focus on immediate results and respect for tradition (Short-term Orientation).]</th>\n",
       "      <th>What is your full name?</th>\n",
       "      <th>Age Group</th>\n",
       "      <th>Gender</th>\n",
       "      <th>Org Name</th>\n",
       "      <th>Industry</th>\n",
       "      <th>Number of employees in current company</th>\n",
       "      <th>Years in current role</th>\n",
       "      <th>Type of employment</th>\n",
       "      <th>Are you currently working in Hong Kong? (if not, please specify)</th>\n",
       "    </tr>\n",
       "  </thead>\n",
       "  <tbody>\n",
       "    <tr>\n",
       "      <th>0</th>\n",
       "      <td>10/25/2023 20:55:50</td>\n",
       "      <td>I accept the conditions</td>\n",
       "      <td>5.0</td>\n",
       "      <td>3.0</td>\n",
       "      <td>5.0</td>\n",
       "      <td>5.0</td>\n",
       "      <td>4.0</td>\n",
       "      <td>4.0</td>\n",
       "      <td>4.0</td>\n",
       "      <td>4.0</td>\n",
       "      <td>...</td>\n",
       "      <td>NaN</td>\n",
       "      <td>NaN</td>\n",
       "      <td>18-27</td>\n",
       "      <td>Female</td>\n",
       "      <td>NaN</td>\n",
       "      <td>NaN</td>\n",
       "      <td>1800</td>\n",
       "      <td>NaN</td>\n",
       "      <td>Full time</td>\n",
       "      <td>Yes</td>\n",
       "    </tr>\n",
       "    <tr>\n",
       "      <th>1</th>\n",
       "      <td>10/25/2023 22:30:53</td>\n",
       "      <td>I accept the conditions</td>\n",
       "      <td>5.0</td>\n",
       "      <td>3.0</td>\n",
       "      <td>5.0</td>\n",
       "      <td>5.0</td>\n",
       "      <td>3.0</td>\n",
       "      <td>3.0</td>\n",
       "      <td>5.0</td>\n",
       "      <td>4.0</td>\n",
       "      <td>...</td>\n",
       "      <td>NaN</td>\n",
       "      <td>NaN</td>\n",
       "      <td>18-27</td>\n",
       "      <td>Female</td>\n",
       "      <td>NaN</td>\n",
       "      <td>NaN</td>\n",
       "      <td>More than 500 employees</td>\n",
       "      <td>1</td>\n",
       "      <td>Full time</td>\n",
       "      <td>Yes</td>\n",
       "    </tr>\n",
       "    <tr>\n",
       "      <th>2</th>\n",
       "      <td>10/26/2023 11:14:11</td>\n",
       "      <td>I accept the conditions</td>\n",
       "      <td>5.0</td>\n",
       "      <td>5.0</td>\n",
       "      <td>5.0</td>\n",
       "      <td>5.0</td>\n",
       "      <td>5.0</td>\n",
       "      <td>5.0</td>\n",
       "      <td>5.0</td>\n",
       "      <td>5.0</td>\n",
       "      <td>...</td>\n",
       "      <td>5th</td>\n",
       "      <td>NaN</td>\n",
       "      <td>Below 12</td>\n",
       "      <td>Male</td>\n",
       "      <td>NaN</td>\n",
       "      <td>NaN</td>\n",
       "      <td>Less than 10 employees</td>\n",
       "      <td>Testing</td>\n",
       "      <td>Full time</td>\n",
       "      <td>Yes</td>\n",
       "    </tr>\n",
       "    <tr>\n",
       "      <th>3</th>\n",
       "      <td>10/27/2023 9:26:12</td>\n",
       "      <td>I accept the conditions</td>\n",
       "      <td>4.0</td>\n",
       "      <td>4.0</td>\n",
       "      <td>5.0</td>\n",
       "      <td>4.0</td>\n",
       "      <td>4.0</td>\n",
       "      <td>4.0</td>\n",
       "      <td>4.0</td>\n",
       "      <td>4.0</td>\n",
       "      <td>...</td>\n",
       "      <td>5th</td>\n",
       "      <td>Lam Yi Ki</td>\n",
       "      <td>18-27</td>\n",
       "      <td>Female</td>\n",
       "      <td>HKU</td>\n",
       "      <td>Finance &amp; Account</td>\n",
       "      <td>Less than 10 employees</td>\n",
       "      <td>0</td>\n",
       "      <td>Student</td>\n",
       "      <td>Yes</td>\n",
       "    </tr>\n",
       "    <tr>\n",
       "      <th>4</th>\n",
       "      <td>10/27/2023 9:35:15</td>\n",
       "      <td>I accept the conditions</td>\n",
       "      <td>5.0</td>\n",
       "      <td>4.0</td>\n",
       "      <td>3.0</td>\n",
       "      <td>2.0</td>\n",
       "      <td>2.0</td>\n",
       "      <td>4.0</td>\n",
       "      <td>3.0</td>\n",
       "      <td>2.0</td>\n",
       "      <td>...</td>\n",
       "      <td>1st</td>\n",
       "      <td>Cheng Yu Shan</td>\n",
       "      <td>18-27</td>\n",
       "      <td>Female</td>\n",
       "      <td>Hkust</td>\n",
       "      <td>Eduction</td>\n",
       "      <td>More than 500 employees</td>\n",
       "      <td>Year 4</td>\n",
       "      <td>Full time</td>\n",
       "      <td>Full time student</td>\n",
       "    </tr>\n",
       "  </tbody>\n",
       "</table>\n",
       "<p>5 rows × 38 columns</p>\n",
       "</div>"
      ],
      "text/plain": [
       "             Timestamp               Unnamed: 1  \\\n",
       "0  10/25/2023 20:55:50  I accept the conditions   \n",
       "1  10/25/2023 22:30:53  I accept the conditions   \n",
       "2  10/26/2023 11:14:11  I accept the conditions   \n",
       "3   10/27/2023 9:26:12  I accept the conditions   \n",
       "4   10/27/2023 9:35:15  I accept the conditions   \n",
       "\n",
       "   1. Extrinsic work values ? good salary, job security, working conditions\\n1.1     A good salary is crucial for any job I consider.  \\\n",
       "0                                                5.0                                                                                    \n",
       "1                                                5.0                                                                                    \n",
       "2                                                5.0                                                                                    \n",
       "3                                                4.0                                                                                    \n",
       "4                                                5.0                                                                                    \n",
       "\n",
       "   1. Extrinsic work values ? good salary, job security, working conditions\\n1.2     Job security is important to me.  \\\n",
       "0                                                3.0                                                                    \n",
       "1                                                3.0                                                                    \n",
       "2                                                5.0                                                                    \n",
       "3                                                4.0                                                                    \n",
       "4                                                4.0                                                                    \n",
       "\n",
       "   2. Intrinsic work values ? growth & development, learning, achievement\\n2.1     I seek jobs that offer interesting and challenging work.  \\\n",
       "0                                                5.0                                                                                          \n",
       "1                                                5.0                                                                                          \n",
       "2                                                5.0                                                                                          \n",
       "3                                                5.0                                                                                          \n",
       "4                                                3.0                                                                                          \n",
       "\n",
       "   2. Intrinsic work values ? growth & development, learning, achievement\\n2.2     Having independence in my job is vital.  \\\n",
       "0                                                5.0                                                                         \n",
       "1                                                5.0                                                                         \n",
       "2                                                5.0                                                                         \n",
       "3                                                4.0                                                                         \n",
       "4                                                2.0                                                                         \n",
       "\n",
       "   3. Social/Altruistic work values ? help others, positive impact on society, contribute to environmental sustainability \\n3.1     I value opportunities to help others through my work.  \\\n",
       "0                                                4.0                                                                                                                                        \n",
       "1                                                3.0                                                                                                                                        \n",
       "2                                                5.0                                                                                                                                        \n",
       "3                                                4.0                                                                                                                                        \n",
       "4                                                2.0                                                                                                                                        \n",
       "\n",
       "   3. Social/Altruistic work values ? help others, positive impact on society, contribute to environmental sustainability \\n3.2     I value a job that allows me to make a positive contribution to society.  \\\n",
       "0                                                4.0                                                                                                                                                           \n",
       "1                                                3.0                                                                                                                                                           \n",
       "2                                                5.0                                                                                                                                                           \n",
       "3                                                4.0                                                                                                                                                           \n",
       "4                                                4.0                                                                                                                                                           \n",
       "\n",
       "   4. Prestige work values ? prestige job title, authority or decision making, well-regarded or respect\\n4.1     The social status associated with my job is important.  \\\n",
       "0                                                4.0                                                                                                                      \n",
       "1                                                5.0                                                                                                                      \n",
       "2                                                5.0                                                                                                                      \n",
       "3                                                4.0                                                                                                                      \n",
       "4                                                3.0                                                                                                                      \n",
       "\n",
       "   4. Prestige work values ? prestige job title, authority or decision making, well-regarded or respect\\n4.2     Gaining recognition through my work is important.  \\\n",
       "0                                                4.0                                                                                                                 \n",
       "1                                                4.0                                                                                                                 \n",
       "2                                                5.0                                                                                                                 \n",
       "3                                                4.0                                                                                                                 \n",
       "4                                                2.0                                                                                                                 \n",
       "\n",
       "   ...  \\\n",
       "0  ...   \n",
       "1  ...   \n",
       "2  ...   \n",
       "3  ...   \n",
       "4  ...   \n",
       "\n",
       "  12. From your chosen ends in above questions. Rank them from 1 to 5 in order how much they influence your work behaviour and attitudes, with 1 being the most influential and 5 being the least influential. [Long-term vs. Short-term Orientation: Emphasis on long-term planning and preparation for future rewards (Long-term orientation) or focus on immediate results and respect for tradition (Short-term Orientation).]  \\\n",
       "0                                                NaN                                                                                                                                                                                                                                                                                                                                                                                 \n",
       "1                                                NaN                                                                                                                                                                                                                                                                                                                                                                                 \n",
       "2                                                5th                                                                                                                                                                                                                                                                                                                                                                                 \n",
       "3                                                5th                                                                                                                                                                                                                                                                                                                                                                                 \n",
       "4                                                1st                                                                                                                                                                                                                                                                                                                                                                                 \n",
       "\n",
       "  What is your full name? Age Group  Gender  Org Name           Industry  \\\n",
       "0                     NaN     18-27  Female       NaN                NaN   \n",
       "1                     NaN     18-27  Female       NaN                NaN   \n",
       "2                     NaN  Below 12    Male       NaN                NaN   \n",
       "3               Lam Yi Ki     18-27  Female       HKU  Finance & Account   \n",
       "4           Cheng Yu Shan     18-27  Female     Hkust          Eduction    \n",
       "\n",
       "   Number of employees in current company   Years in current role   \\\n",
       "0                                     1800                     NaN   \n",
       "1                  More than 500 employees                       1   \n",
       "2                   Less than 10 employees                 Testing   \n",
       "3                   Less than 10 employees                       0   \n",
       "4                  More than 500 employees                  Year 4   \n",
       "\n",
       "   Type of employment  \\\n",
       "0           Full time   \n",
       "1           Full time   \n",
       "2           Full time   \n",
       "3             Student   \n",
       "4           Full time   \n",
       "\n",
       "  Are you currently working in Hong Kong? (if not, please specify)  \n",
       "0                                                Yes                \n",
       "1                                                Yes                \n",
       "2                                                Yes                \n",
       "3                                                Yes                \n",
       "4                                 Full time student                 \n",
       "\n",
       "[5 rows x 38 columns]"
      ]
     },
     "execution_count": 2,
     "metadata": {},
     "output_type": "execute_result"
    }
   ],
   "source": [
    "df = pd.read_csv(\"testingResults.csv\", header=0)\n",
    "change_range = (37, 125)\n",
    "df = df.iloc[0:change_range[0],:]\n",
    "dfcopy = df.copy()\n",
    "untouchdf = df.copy()\n",
    "df.head()"
   ]
  },
  {
   "cell_type": "code",
   "execution_count": null,
   "id": "0a3691a1",
   "metadata": {},
   "outputs": [],
   "source": []
  },
  {
   "cell_type": "code",
   "execution_count": 3,
   "id": "ec4a61ca",
   "metadata": {},
   "outputs": [
    {
     "name": "stdout",
     "output_type": "stream",
     "text": [
      "2023-10-29 10:06:33.15\n",
      "2023-10-29 10:08:38.04\n",
      "2023-10-29 10:15:55.04\n",
      "2023-10-29 10:36:37.33\n",
      "2023-10-29 10:37:00.59\n",
      "2023-10-29 11:06:03.62\n",
      "2023-10-29 11:17:10.03\n",
      "2023-10-29 11:22:20.25\n",
      "2023-10-29 11:44:43.11\n",
      "2023-10-29 11:54:33.33\n",
      "2023-10-29 12:09:22.30\n",
      "2023-10-29 12:10:52.36\n",
      "2023-10-29 12:22:51.51\n",
      "2023-10-29 18:14:51.11\n",
      "2023-10-29 19:49:06.92\n",
      "2023-10-29 21:43:55.10\n",
      "2023-10-29 22:17:38.18\n",
      "2023-10-29 22:28:15.57\n",
      "2023-10-29 23:22:45.42\n",
      "2023-10-29 23:39:09.89\n",
      "2023-10-30 10:58:37.71\n",
      "2023-10-30 11:01:51.08\n",
      "2023-10-30 11:01:56.67\n",
      "2023-10-30 11:37:50.30\n",
      "2023-10-30 11:42:45.26\n",
      "2023-10-30 20:10:46.22\n",
      "2023-10-31 09:26:25.35\n",
      "2023-10-31 10:38:08.01\n",
      "2023-10-31 11:40:15.58\n",
      "2023-10-31 20:15:35.66\n",
      "2023-10-31 22:29:05.14\n",
      "2023-11-01 12:00:58.94\n",
      "2023-11-02 08:54:22.48\n",
      "2023-11-02 11:35:51.52\n",
      "2023-11-02 11:45:37.94\n",
      "2023-11-02 11:52:28.21\n",
      "2023-11-02 21:24:54.60\n",
      "2023-11-02 23:46:28.83\n",
      "2023-11-03 10:36:42.99\n",
      "2023-11-03 11:11:32.68\n",
      "2023-11-03 12:18:52.17\n",
      "2023-11-03 12:32:19.82\n",
      "2023-11-03 13:20:50.18\n",
      "2023-11-03 13:41:42.70\n",
      "2023-11-03 20:48:33.54\n",
      "2023-11-03 21:24:06.86\n",
      "2023-11-03 22:42:42.30\n",
      "2023-11-03 23:15:39.22\n",
      "2023-11-04 12:37:41.11\n",
      "2023-11-04 19:46:06.31\n",
      "2023-11-04 20:01:15.79\n",
      "2023-11-04 20:26:29.34\n",
      "2023-11-04 20:37:11.79\n",
      "2023-11-04 22:06:46.15\n",
      "2023-11-04 22:07:35.34\n",
      "2023-11-05 09:16:51.81\n",
      "2023-11-05 10:28:33.48\n",
      "2023-11-05 10:58:33.74\n",
      "2023-11-05 11:09:18.77\n",
      "2023-11-05 13:10:08.00\n",
      "2023-11-05 17:31:07.68\n",
      "2023-11-05 20:34:07.53\n",
      "2023-11-05 20:39:18.94\n",
      "2023-11-05 21:15:13.35\n",
      "2023-11-05 23:16:21.55\n",
      "2023-11-06 09:42:28.55\n",
      "2023-11-06 10:03:53.68\n",
      "2023-11-06 10:08:07.80\n",
      "2023-11-06 10:13:59.55\n",
      "2023-11-06 11:44:59.77\n",
      "2023-11-06 12:00:14.89\n",
      "2023-11-06 13:45:53.67\n",
      "2023-11-06 17:54:11.12\n",
      "2023-11-06 18:48:41.96\n",
      "2023-11-06 22:42:02.40\n",
      "2023-11-07 09:21:43.74\n",
      "2023-11-07 09:48:16.85\n",
      "2023-11-07 09:49:53.31\n",
      "2023-11-07 10:15:39.04\n",
      "2023-11-07 10:47:42.80\n",
      "2023-11-07 11:35:47.57\n",
      "2023-11-07 12:14:57.11\n",
      "2023-11-07 22:09:15.21\n",
      "2023-11-08 10:02:57.23\n",
      "2023-11-08 10:18:14.82\n",
      "2023-11-08 10:19:18.32\n",
      "2023-11-08 12:22:07.96\n",
      "2023-11-08 23:57:15.79\n"
     ]
    }
   ],
   "source": [
    "# Convert the first column to datetime objects\n",
    "times = pd.to_datetime(df.iloc[0:change_range[0], 0])\n",
    "\n",
    "# Calculate the seconds past midnight for each time\n",
    "seconds_past_midnight = [(time - time.replace(hour=0, minute=0, second=0)).total_seconds() for time in times]\n",
    "\n",
    "# Start date for the new dates\n",
    "start_date = pd.to_datetime(\"10/29/2023\")\n",
    "\n",
    "# Generate new dates\n",
    "new_dates = [start_date + timedelta(days=random.randint(0, 10)) for _ in range(change_range[1] - change_range[0])]\n",
    "\n",
    "# Generate new times\n",
    "new_times = []\n",
    "for date in new_dates:\n",
    "    for seconds in seconds_past_midnight:\n",
    "        new_time = (date + timedelta(seconds=np.random.normal(loc=seconds, scale=700) + random.randint(-3600, 3600))) # add some random noise\n",
    "        new_times.append(str(new_time)[:-4])\n",
    "\n",
    "new_times.sort()\n",
    "col0 = random.choices(new_times, k=change_range[1] - change_range[0])\n",
    "col0.sort()\n",
    "col0[-5:]\n",
    "for i in col0:\n",
    "    print(i)\n"
   ]
  },
  {
   "cell_type": "code",
   "execution_count": 4,
   "id": "e105ba83",
   "metadata": {},
   "outputs": [
    {
     "data": {
      "text/plain": [
       "['I accept the conditions',\n",
       " 'I accept the conditions',\n",
       " 'I accept the conditions',\n",
       " 'I accept the conditions',\n",
       " 'I accept the conditions']"
      ]
     },
     "execution_count": 4,
     "metadata": {},
     "output_type": "execute_result"
    }
   ],
   "source": [
    "col1 = [dfcopy.iloc[3,1] for _ in range(change_range[1]-change_range[0])]\n",
    "col1[:5]"
   ]
  },
  {
   "cell_type": "code",
   "execution_count": 5,
   "id": "edd1e0d9",
   "metadata": {},
   "outputs": [],
   "source": [
    "import pandas as pd\n",
    "import numpy as np\n",
    "from scipy.stats import norm\n",
    "\n",
    "def create_series_int(column_no) -> pd.Series:\n",
    "    column = pd.to_numeric(df.iloc[:, column_no], errors='coerce')\n",
    "\n",
    "    # Drop NaN values\n",
    "    column = column.dropna()\n",
    "\n",
    "    # Calculate the mean and standard deviation\n",
    "    mean, std = column.mean(), column.std()\n",
    "    print(f\"{mean=:.2f} {std=:.2f}\")\n",
    "    \n",
    "    # Generate 100 samples from this distribution\n",
    "    samples = np.random.normal(mean, std, change_range[1]-change_range[0])\n",
    "\n",
    "    # If you want to keep the samples within the same range as the original data\n",
    "    samples = np.clip(samples, column.min(), column.max())\n",
    "\n",
    "    # Round samples to the nearest integer\n",
    "    samples = np.round(samples).astype(int)\n",
    "    return list(samples)"
   ]
  },
  {
   "cell_type": "code",
   "execution_count": 6,
   "id": "f7798188",
   "metadata": {},
   "outputs": [
    {
     "name": "stdout",
     "output_type": "stream",
     "text": [
      "mean=4.49 std=0.73\n"
     ]
    },
    {
     "data": {
      "text/plain": [
       "[5, 4, 4, 3, 5]"
      ]
     },
     "execution_count": 6,
     "metadata": {},
     "output_type": "execute_result"
    }
   ],
   "source": [
    "col2 = create_series_int(2)\n",
    "col2[:5]"
   ]
  },
  {
   "cell_type": "code",
   "execution_count": 7,
   "id": "88268c1b",
   "metadata": {},
   "outputs": [
    {
     "name": "stdout",
     "output_type": "stream",
     "text": [
      "mean=3.84 std=0.73\n"
     ]
    },
    {
     "data": {
      "text/plain": [
       "[4, 5, 5, 3, 3]"
      ]
     },
     "execution_count": 7,
     "metadata": {},
     "output_type": "execute_result"
    }
   ],
   "source": [
    "col3 = create_series_int(3)\n",
    "col3[:5]"
   ]
  },
  {
   "cell_type": "code",
   "execution_count": 8,
   "id": "f7cad876",
   "metadata": {},
   "outputs": [
    {
     "name": "stdout",
     "output_type": "stream",
     "text": [
      "mean=4.16 std=0.90\n"
     ]
    },
    {
     "data": {
      "text/plain": [
       "[4, 3, 4, 3, 4]"
      ]
     },
     "execution_count": 8,
     "metadata": {},
     "output_type": "execute_result"
    }
   ],
   "source": [
    "col4 = create_series_int(4)\n",
    "col4[:5]"
   ]
  },
  {
   "cell_type": "code",
   "execution_count": 9,
   "id": "b762a96a",
   "metadata": {},
   "outputs": [
    {
     "name": "stdout",
     "output_type": "stream",
     "text": [
      "mean=3.78 std=0.98\n"
     ]
    },
    {
     "data": {
      "text/plain": [
       "[3, 5, 3, 3, 5]"
      ]
     },
     "execution_count": 9,
     "metadata": {},
     "output_type": "execute_result"
    }
   ],
   "source": [
    "col5 = create_series_int(5)\n",
    "col5[:5]"
   ]
  },
  {
   "cell_type": "code",
   "execution_count": 10,
   "id": "f5f92f4b",
   "metadata": {},
   "outputs": [
    {
     "name": "stdout",
     "output_type": "stream",
     "text": [
      "mean=3.78 std=0.89\n"
     ]
    },
    {
     "data": {
      "text/plain": [
       "[5, 5, 4, 4, 3, 5]"
      ]
     },
     "execution_count": 10,
     "metadata": {},
     "output_type": "execute_result"
    }
   ],
   "source": [
    "col6 = create_series_int(6)\n",
    "col6[:6]"
   ]
  },
  {
   "cell_type": "code",
   "execution_count": 11,
   "id": "1156ebf2",
   "metadata": {},
   "outputs": [
    {
     "name": "stdout",
     "output_type": "stream",
     "text": [
      "mean=3.81 std=1.02\n"
     ]
    },
    {
     "data": {
      "text/plain": [
       "[4, 4, 5, 3, 4]"
      ]
     },
     "execution_count": 11,
     "metadata": {},
     "output_type": "execute_result"
    }
   ],
   "source": [
    "col7 = create_series_int(7)\n",
    "col7[:5]"
   ]
  },
  {
   "cell_type": "code",
   "execution_count": 12,
   "id": "d574acdf",
   "metadata": {},
   "outputs": [
    {
     "name": "stdout",
     "output_type": "stream",
     "text": [
      "mean=3.49 std=0.93\n"
     ]
    },
    {
     "data": {
      "text/plain": [
       "[3, 2, 4, 4, 4]"
      ]
     },
     "execution_count": 12,
     "metadata": {},
     "output_type": "execute_result"
    }
   ],
   "source": [
    "col8 = create_series_int(8)\n",
    "col8[:5]"
   ]
  },
  {
   "cell_type": "code",
   "execution_count": 13,
   "id": "b0ee22e6",
   "metadata": {},
   "outputs": [
    {
     "name": "stdout",
     "output_type": "stream",
     "text": [
      "mean=3.68 std=0.97\n"
     ]
    },
    {
     "data": {
      "text/plain": [
       "[3, 3, 5, 4, 2]"
      ]
     },
     "execution_count": 13,
     "metadata": {},
     "output_type": "execute_result"
    }
   ],
   "source": [
    "col9 = create_series_int(9)\n",
    "col9[:5]"
   ]
  },
  {
   "cell_type": "code",
   "execution_count": 14,
   "id": "06110cb5",
   "metadata": {},
   "outputs": [
    {
     "data": {
      "text/html": [
       "<div>\n",
       "<style scoped>\n",
       "    .dataframe tbody tr th:only-of-type {\n",
       "        vertical-align: middle;\n",
       "    }\n",
       "\n",
       "    .dataframe tbody tr th {\n",
       "        vertical-align: top;\n",
       "    }\n",
       "\n",
       "    .dataframe thead th {\n",
       "        text-align: right;\n",
       "    }\n",
       "</style>\n",
       "<table border=\"1\" class=\"dataframe\">\n",
       "  <thead>\n",
       "    <tr style=\"text-align: right;\">\n",
       "      <th></th>\n",
       "      <th>Timestamp</th>\n",
       "      <th>Unnamed: 1</th>\n",
       "      <th>1. Extrinsic work values ? good salary, job security, working conditions\\n1.1     A good salary is crucial for any job I consider.</th>\n",
       "      <th>1. Extrinsic work values ? good salary, job security, working conditions\\n1.2     Job security is important to me.</th>\n",
       "      <th>2. Intrinsic work values ? growth &amp; development, learning, achievement\\n2.1     I seek jobs that offer interesting and challenging work.</th>\n",
       "      <th>2. Intrinsic work values ? growth &amp; development, learning, achievement\\n2.2     Having independence in my job is vital.</th>\n",
       "      <th>3. Social/Altruistic work values ? help others, positive impact on society, contribute to environmental sustainability \\n3.1     I value opportunities to help others through my work.</th>\n",
       "      <th>3. Social/Altruistic work values ? help others, positive impact on society, contribute to environmental sustainability \\n3.2     I value a job that allows me to make a positive contribution to society.</th>\n",
       "      <th>4. Prestige work values ? prestige job title, authority or decision making, well-regarded or respect\\n4.1     The social status associated with my job is important.</th>\n",
       "      <th>4. Prestige work values ? prestige job title, authority or decision making, well-regarded or respect\\n4.2     Gaining recognition through my work is important.</th>\n",
       "      <th>...</th>\n",
       "      <th>12. From your chosen ends in above questions. Rank them from 1 to 5 in order how much they influence your work behaviour and attitudes, with 1 being the most influential and 5 being the least influential. [Long-term vs. Short-term Orientation: Emphasis on long-term planning and preparation for future rewards (Long-term orientation) or focus on immediate results and respect for tradition (Short-term Orientation).]</th>\n",
       "      <th>What is your full name?</th>\n",
       "      <th>Age Group</th>\n",
       "      <th>Gender</th>\n",
       "      <th>Org Name</th>\n",
       "      <th>Industry</th>\n",
       "      <th>Number of employees in current company</th>\n",
       "      <th>Years in current role</th>\n",
       "      <th>Type of employment</th>\n",
       "      <th>Are you currently working in Hong Kong? (if not, please specify)</th>\n",
       "    </tr>\n",
       "  </thead>\n",
       "  <tbody>\n",
       "    <tr>\n",
       "      <th>0</th>\n",
       "      <td>10/25/2023 20:55:50</td>\n",
       "      <td>I accept the conditions</td>\n",
       "      <td>5.0</td>\n",
       "      <td>3.0</td>\n",
       "      <td>5.0</td>\n",
       "      <td>5.0</td>\n",
       "      <td>4.0</td>\n",
       "      <td>4.0</td>\n",
       "      <td>4.0</td>\n",
       "      <td>4.0</td>\n",
       "      <td>...</td>\n",
       "      <td>NaN</td>\n",
       "      <td>NaN</td>\n",
       "      <td>18-27</td>\n",
       "      <td>Female</td>\n",
       "      <td>NaN</td>\n",
       "      <td>NaN</td>\n",
       "      <td>1800</td>\n",
       "      <td>NaN</td>\n",
       "      <td>Full time</td>\n",
       "      <td>Yes</td>\n",
       "    </tr>\n",
       "    <tr>\n",
       "      <th>1</th>\n",
       "      <td>10/25/2023 22:30:53</td>\n",
       "      <td>I accept the conditions</td>\n",
       "      <td>5.0</td>\n",
       "      <td>3.0</td>\n",
       "      <td>5.0</td>\n",
       "      <td>5.0</td>\n",
       "      <td>3.0</td>\n",
       "      <td>3.0</td>\n",
       "      <td>5.0</td>\n",
       "      <td>4.0</td>\n",
       "      <td>...</td>\n",
       "      <td>NaN</td>\n",
       "      <td>NaN</td>\n",
       "      <td>18-27</td>\n",
       "      <td>Female</td>\n",
       "      <td>NaN</td>\n",
       "      <td>NaN</td>\n",
       "      <td>More than 500 employees</td>\n",
       "      <td>1</td>\n",
       "      <td>Full time</td>\n",
       "      <td>Yes</td>\n",
       "    </tr>\n",
       "    <tr>\n",
       "      <th>2</th>\n",
       "      <td>10/26/2023 11:14:11</td>\n",
       "      <td>I accept the conditions</td>\n",
       "      <td>5.0</td>\n",
       "      <td>5.0</td>\n",
       "      <td>5.0</td>\n",
       "      <td>5.0</td>\n",
       "      <td>5.0</td>\n",
       "      <td>5.0</td>\n",
       "      <td>5.0</td>\n",
       "      <td>5.0</td>\n",
       "      <td>...</td>\n",
       "      <td>5th</td>\n",
       "      <td>NaN</td>\n",
       "      <td>Below 12</td>\n",
       "      <td>Male</td>\n",
       "      <td>NaN</td>\n",
       "      <td>NaN</td>\n",
       "      <td>Less than 10 employees</td>\n",
       "      <td>Testing</td>\n",
       "      <td>Full time</td>\n",
       "      <td>Yes</td>\n",
       "    </tr>\n",
       "    <tr>\n",
       "      <th>3</th>\n",
       "      <td>10/27/2023 9:26:12</td>\n",
       "      <td>I accept the conditions</td>\n",
       "      <td>4.0</td>\n",
       "      <td>4.0</td>\n",
       "      <td>5.0</td>\n",
       "      <td>4.0</td>\n",
       "      <td>4.0</td>\n",
       "      <td>4.0</td>\n",
       "      <td>4.0</td>\n",
       "      <td>4.0</td>\n",
       "      <td>...</td>\n",
       "      <td>5th</td>\n",
       "      <td>Lam Yi Ki</td>\n",
       "      <td>18-27</td>\n",
       "      <td>Female</td>\n",
       "      <td>HKU</td>\n",
       "      <td>Finance &amp; Account</td>\n",
       "      <td>Less than 10 employees</td>\n",
       "      <td>0</td>\n",
       "      <td>Student</td>\n",
       "      <td>Yes</td>\n",
       "    </tr>\n",
       "    <tr>\n",
       "      <th>4</th>\n",
       "      <td>10/27/2023 9:35:15</td>\n",
       "      <td>I accept the conditions</td>\n",
       "      <td>5.0</td>\n",
       "      <td>4.0</td>\n",
       "      <td>3.0</td>\n",
       "      <td>2.0</td>\n",
       "      <td>2.0</td>\n",
       "      <td>4.0</td>\n",
       "      <td>3.0</td>\n",
       "      <td>2.0</td>\n",
       "      <td>...</td>\n",
       "      <td>1st</td>\n",
       "      <td>Cheng Yu Shan</td>\n",
       "      <td>18-27</td>\n",
       "      <td>Female</td>\n",
       "      <td>Hkust</td>\n",
       "      <td>Eduction</td>\n",
       "      <td>More than 500 employees</td>\n",
       "      <td>Year 4</td>\n",
       "      <td>Full time</td>\n",
       "      <td>Full time student</td>\n",
       "    </tr>\n",
       "  </tbody>\n",
       "</table>\n",
       "<p>5 rows × 38 columns</p>\n",
       "</div>"
      ],
      "text/plain": [
       "             Timestamp               Unnamed: 1  \\\n",
       "0  10/25/2023 20:55:50  I accept the conditions   \n",
       "1  10/25/2023 22:30:53  I accept the conditions   \n",
       "2  10/26/2023 11:14:11  I accept the conditions   \n",
       "3   10/27/2023 9:26:12  I accept the conditions   \n",
       "4   10/27/2023 9:35:15  I accept the conditions   \n",
       "\n",
       "   1. Extrinsic work values ? good salary, job security, working conditions\\n1.1     A good salary is crucial for any job I consider.  \\\n",
       "0                                                5.0                                                                                    \n",
       "1                                                5.0                                                                                    \n",
       "2                                                5.0                                                                                    \n",
       "3                                                4.0                                                                                    \n",
       "4                                                5.0                                                                                    \n",
       "\n",
       "   1. Extrinsic work values ? good salary, job security, working conditions\\n1.2     Job security is important to me.  \\\n",
       "0                                                3.0                                                                    \n",
       "1                                                3.0                                                                    \n",
       "2                                                5.0                                                                    \n",
       "3                                                4.0                                                                    \n",
       "4                                                4.0                                                                    \n",
       "\n",
       "   2. Intrinsic work values ? growth & development, learning, achievement\\n2.1     I seek jobs that offer interesting and challenging work.  \\\n",
       "0                                                5.0                                                                                          \n",
       "1                                                5.0                                                                                          \n",
       "2                                                5.0                                                                                          \n",
       "3                                                5.0                                                                                          \n",
       "4                                                3.0                                                                                          \n",
       "\n",
       "   2. Intrinsic work values ? growth & development, learning, achievement\\n2.2     Having independence in my job is vital.  \\\n",
       "0                                                5.0                                                                         \n",
       "1                                                5.0                                                                         \n",
       "2                                                5.0                                                                         \n",
       "3                                                4.0                                                                         \n",
       "4                                                2.0                                                                         \n",
       "\n",
       "   3. Social/Altruistic work values ? help others, positive impact on society, contribute to environmental sustainability \\n3.1     I value opportunities to help others through my work.  \\\n",
       "0                                                4.0                                                                                                                                        \n",
       "1                                                3.0                                                                                                                                        \n",
       "2                                                5.0                                                                                                                                        \n",
       "3                                                4.0                                                                                                                                        \n",
       "4                                                2.0                                                                                                                                        \n",
       "\n",
       "   3. Social/Altruistic work values ? help others, positive impact on society, contribute to environmental sustainability \\n3.2     I value a job that allows me to make a positive contribution to society.  \\\n",
       "0                                                4.0                                                                                                                                                           \n",
       "1                                                3.0                                                                                                                                                           \n",
       "2                                                5.0                                                                                                                                                           \n",
       "3                                                4.0                                                                                                                                                           \n",
       "4                                                4.0                                                                                                                                                           \n",
       "\n",
       "   4. Prestige work values ? prestige job title, authority or decision making, well-regarded or respect\\n4.1     The social status associated with my job is important.  \\\n",
       "0                                                4.0                                                                                                                      \n",
       "1                                                5.0                                                                                                                      \n",
       "2                                                5.0                                                                                                                      \n",
       "3                                                4.0                                                                                                                      \n",
       "4                                                3.0                                                                                                                      \n",
       "\n",
       "   4. Prestige work values ? prestige job title, authority or decision making, well-regarded or respect\\n4.2     Gaining recognition through my work is important.  \\\n",
       "0                                                4.0                                                                                                                 \n",
       "1                                                4.0                                                                                                                 \n",
       "2                                                5.0                                                                                                                 \n",
       "3                                                4.0                                                                                                                 \n",
       "4                                                2.0                                                                                                                 \n",
       "\n",
       "   ...  \\\n",
       "0  ...   \n",
       "1  ...   \n",
       "2  ...   \n",
       "3  ...   \n",
       "4  ...   \n",
       "\n",
       "  12. From your chosen ends in above questions. Rank them from 1 to 5 in order how much they influence your work behaviour and attitudes, with 1 being the most influential and 5 being the least influential. [Long-term vs. Short-term Orientation: Emphasis on long-term planning and preparation for future rewards (Long-term orientation) or focus on immediate results and respect for tradition (Short-term Orientation).]  \\\n",
       "0                                                NaN                                                                                                                                                                                                                                                                                                                                                                                 \n",
       "1                                                NaN                                                                                                                                                                                                                                                                                                                                                                                 \n",
       "2                                                5th                                                                                                                                                                                                                                                                                                                                                                                 \n",
       "3                                                5th                                                                                                                                                                                                                                                                                                                                                                                 \n",
       "4                                                1st                                                                                                                                                                                                                                                                                                                                                                                 \n",
       "\n",
       "  What is your full name? Age Group  Gender  Org Name           Industry  \\\n",
       "0                     NaN     18-27  Female       NaN                NaN   \n",
       "1                     NaN     18-27  Female       NaN                NaN   \n",
       "2                     NaN  Below 12    Male       NaN                NaN   \n",
       "3               Lam Yi Ki     18-27  Female       HKU  Finance & Account   \n",
       "4           Cheng Yu Shan     18-27  Female     Hkust          Eduction    \n",
       "\n",
       "   Number of employees in current company   Years in current role   \\\n",
       "0                                     1800                     NaN   \n",
       "1                  More than 500 employees                       1   \n",
       "2                   Less than 10 employees                 Testing   \n",
       "3                   Less than 10 employees                       0   \n",
       "4                  More than 500 employees                  Year 4   \n",
       "\n",
       "   Type of employment  \\\n",
       "0           Full time   \n",
       "1           Full time   \n",
       "2           Full time   \n",
       "3             Student   \n",
       "4           Full time   \n",
       "\n",
       "  Are you currently working in Hong Kong? (if not, please specify)  \n",
       "0                                                Yes                \n",
       "1                                                Yes                \n",
       "2                                                Yes                \n",
       "3                                                Yes                \n",
       "4                                 Full time student                 \n",
       "\n",
       "[5 rows x 38 columns]"
      ]
     },
     "execution_count": 14,
     "metadata": {},
     "output_type": "execute_result"
    }
   ],
   "source": [
    "df.head()"
   ]
  },
  {
   "cell_type": "code",
   "execution_count": 15,
   "id": "5a9d1448",
   "metadata": {},
   "outputs": [],
   "source": [
    "# column 10 to 13 are ranking from 1st to 4th\n",
    "\n",
    "def create_ranking(columns: list, gen_size: int, pick: int):\n",
    "    rank_to_num = {\"1st\": 1, \"2nd\": 2, \"3rd\": 3, \"4th\": 4, \"5th\": 5}\n",
    "    num_to_rank = {1: \"1st\", 2: \"2nd\", 3: \"3rd\", 4: \"4th\", 5: \"5th\"}\n",
    "    \n",
    "    # 14 - 10 = 4\n",
    "    column_len = columns[-1]+1 -columns[0]\n",
    "    \n",
    "    meandict = {}\n",
    "    stddict = {}\n",
    "    \n",
    "    dfcopy = df.copy().iloc[:, columns[0]:columns[-1]+1]\n",
    "    newdf = pd.DataFrame()\n",
    "    newdf = dfcopy.replace(rank_to_num)\n",
    "    # Change column names using df.columns\n",
    "    newdf.columns = [i for i in range(column_len)]\n",
    "    \n",
    "    for i, col in enumerate(columns):\n",
    "        meandict[i] = newdf[i].mean()\n",
    "        stddict[i] = newdf[i].std()\n",
    "\n",
    "\n",
    "    # Or, change column names using df.rename()\n",
    "    newdf.rename(columns={df.columns[0]: 0, df.columns[1]: 1, df.columns[2]: 2, df.columns[3]: 3}, inplace=True)\n",
    "    print(f\"\\nNEWDF:\\n{newdf.head()}\\n\\n\")\n",
    "    \n",
    "    \n",
    "    def shuffle_list():\n",
    "        temp_list = [i+1 for i in range(column_len)].copy()\n",
    "        # Shuffle the copy\n",
    "        random.shuffle(temp_list)\n",
    "        return temp_list\n",
    "        # Return the shuffled list\n",
    "    \n",
    "    data = [shuffle_list() for i in range(gen_size)]\n",
    "    # Create a DataFrame from the dictionary\n",
    "    fabdf = pd.DataFrame(data)\n",
    "\n",
    "    print(\"MEANDICT\\n\", meandict)\n",
    "    def calculate_mean_diff(row):\n",
    "        collect = []\n",
    "        for i in range(len(row)):\n",
    "            collect.append(abs(row[i] - meandict[i]))\n",
    "        return sum(collect)    \n",
    "        \n",
    "    fabdf['sum'] = fabdf.apply(calculate_mean_diff, axis=1)\n",
    "    fabdf_mean = fabdf['sum'].mean()\n",
    "    print(f\"\\nbefore: {fabdf_mean=}\")\n",
    "    fabdf_std = fabdf['sum'].std()\n",
    "    print(f\"before: {fabdf_std=}\")\n",
    "    \n",
    "    newdf['sum'] = newdf.apply(calculate_mean_diff, axis=1)\n",
    "    newdf_mean = newdf['sum'].mean()\n",
    "    newdf_std = newdf['sum'].std()\n",
    "    print(f\"\\n{newdf_mean=}\")\n",
    "    print(f\"{newdf_std=}\")\n",
    "    \n",
    "    fabdf['diff'] = fabdf['sum'] - newdf_mean\n",
    "    # Get the indices of the 10 rows with the largest 'sum' values\n",
    "    indices_to_drop = fabdf['diff'].nlargest(gen_size - pick).index\n",
    "\n",
    "    # Drop these rows from the DataFrame\n",
    "    fabdf = fabdf.drop(indices_to_drop)\n",
    "    fabdf_mean = fabdf['sum'].mean()\n",
    "    print(f\"\\nafter: {fabdf_mean=}\")\n",
    "    fabdf_std = fabdf['sum'].std()\n",
    "    print(f\"after: {fabdf_std=}\")\n",
    "    \n",
    "    fabdf = fabdf.replace(num_to_rank)\n",
    "    \n",
    "    return fabdf.iloc[:,:column_len].reset_index(drop=True)"
   ]
  },
  {
   "cell_type": "code",
   "execution_count": 16,
   "id": "007f0321",
   "metadata": {},
   "outputs": [
    {
     "name": "stdout",
     "output_type": "stream",
     "text": [
      "\n",
      "NEWDF:\n",
      "   0  1  2  3\n",
      "0  1  2  3  4\n",
      "1  1  2  4  3\n",
      "2  4  3  2  1\n",
      "3  2  1  3  4\n",
      "4  1  4  2  3\n",
      "\n",
      "\n",
      "MEANDICT\n",
      " {0: 1.7837837837837838, 1: 2.189189189189189, 2: 2.918918918918919, 3: 3.108108108108108}\n",
      "\n",
      "before: fabdf_mean=4.094864864864865\n",
      "before: fabdf_std=1.144987382216883\n",
      "\n",
      "newdf_mean=3.14536157779401\n",
      "newdf_std=1.260735916191583\n",
      "\n",
      "after: fabdf_mean=3.1302211302211305\n",
      "after: fabdf_std=0.802698837329029\n"
     ]
    },
    {
     "data": {
      "text/html": [
       "<div>\n",
       "<style scoped>\n",
       "    .dataframe tbody tr th:only-of-type {\n",
       "        vertical-align: middle;\n",
       "    }\n",
       "\n",
       "    .dataframe tbody tr th {\n",
       "        vertical-align: top;\n",
       "    }\n",
       "\n",
       "    .dataframe thead th {\n",
       "        text-align: right;\n",
       "    }\n",
       "</style>\n",
       "<table border=\"1\" class=\"dataframe\">\n",
       "  <thead>\n",
       "    <tr style=\"text-align: right;\">\n",
       "      <th></th>\n",
       "      <th>0</th>\n",
       "      <th>1</th>\n",
       "      <th>2</th>\n",
       "      <th>3</th>\n",
       "    </tr>\n",
       "  </thead>\n",
       "  <tbody>\n",
       "    <tr>\n",
       "      <th>0</th>\n",
       "      <td>1st</td>\n",
       "      <td>2nd</td>\n",
       "      <td>3rd</td>\n",
       "      <td>4th</td>\n",
       "    </tr>\n",
       "    <tr>\n",
       "      <th>1</th>\n",
       "      <td>1st</td>\n",
       "      <td>3rd</td>\n",
       "      <td>4th</td>\n",
       "      <td>2nd</td>\n",
       "    </tr>\n",
       "    <tr>\n",
       "      <th>2</th>\n",
       "      <td>1st</td>\n",
       "      <td>2nd</td>\n",
       "      <td>4th</td>\n",
       "      <td>3rd</td>\n",
       "    </tr>\n",
       "    <tr>\n",
       "      <th>3</th>\n",
       "      <td>1st</td>\n",
       "      <td>2nd</td>\n",
       "      <td>4th</td>\n",
       "      <td>3rd</td>\n",
       "    </tr>\n",
       "    <tr>\n",
       "      <th>4</th>\n",
       "      <td>2nd</td>\n",
       "      <td>1st</td>\n",
       "      <td>4th</td>\n",
       "      <td>3rd</td>\n",
       "    </tr>\n",
       "    <tr>\n",
       "      <th>...</th>\n",
       "      <td>...</td>\n",
       "      <td>...</td>\n",
       "      <td>...</td>\n",
       "      <td>...</td>\n",
       "    </tr>\n",
       "    <tr>\n",
       "      <th>83</th>\n",
       "      <td>1st</td>\n",
       "      <td>4th</td>\n",
       "      <td>3rd</td>\n",
       "      <td>2nd</td>\n",
       "    </tr>\n",
       "    <tr>\n",
       "      <th>84</th>\n",
       "      <td>2nd</td>\n",
       "      <td>1st</td>\n",
       "      <td>3rd</td>\n",
       "      <td>4th</td>\n",
       "    </tr>\n",
       "    <tr>\n",
       "      <th>85</th>\n",
       "      <td>3rd</td>\n",
       "      <td>1st</td>\n",
       "      <td>2nd</td>\n",
       "      <td>4th</td>\n",
       "    </tr>\n",
       "    <tr>\n",
       "      <th>86</th>\n",
       "      <td>2nd</td>\n",
       "      <td>4th</td>\n",
       "      <td>3rd</td>\n",
       "      <td>1st</td>\n",
       "    </tr>\n",
       "    <tr>\n",
       "      <th>87</th>\n",
       "      <td>2nd</td>\n",
       "      <td>1st</td>\n",
       "      <td>3rd</td>\n",
       "      <td>4th</td>\n",
       "    </tr>\n",
       "  </tbody>\n",
       "</table>\n",
       "<p>88 rows × 4 columns</p>\n",
       "</div>"
      ],
      "text/plain": [
       "      0    1    2    3\n",
       "0   1st  2nd  3rd  4th\n",
       "1   1st  3rd  4th  2nd\n",
       "2   1st  2nd  4th  3rd\n",
       "3   1st  2nd  4th  3rd\n",
       "4   2nd  1st  4th  3rd\n",
       "..  ...  ...  ...  ...\n",
       "83  1st  4th  3rd  2nd\n",
       "84  2nd  1st  3rd  4th\n",
       "85  3rd  1st  2nd  4th\n",
       "86  2nd  4th  3rd  1st\n",
       "87  2nd  1st  3rd  4th\n",
       "\n",
       "[88 rows x 4 columns]"
      ]
     },
     "execution_count": 16,
     "metadata": {},
     "output_type": "execute_result"
    }
   ],
   "source": [
    "col10 = create_ranking([10, 11, 12, 13], 200, change_range[1] - change_range[0])\n",
    "col10"
   ]
  },
  {
   "cell_type": "code",
   "execution_count": 17,
   "id": "7b552f1d",
   "metadata": {},
   "outputs": [
    {
     "name": "stdout",
     "output_type": "stream",
     "text": [
      "mean=3.22 std=1.06\n"
     ]
    },
    {
     "data": {
      "text/plain": [
       "[3, 4, 3, 3, 4]"
      ]
     },
     "execution_count": 17,
     "metadata": {},
     "output_type": "execute_result"
    }
   ],
   "source": [
    "col14 = create_series_int(14)\n",
    "col14[:5]"
   ]
  },
  {
   "cell_type": "code",
   "execution_count": 18,
   "id": "89b99b95",
   "metadata": {},
   "outputs": [
    {
     "name": "stdout",
     "output_type": "stream",
     "text": [
      "mean=3.51 std=0.93\n"
     ]
    },
    {
     "data": {
      "text/plain": [
       "[1, 5, 3, 3, 5]"
      ]
     },
     "execution_count": 18,
     "metadata": {},
     "output_type": "execute_result"
    }
   ],
   "source": [
    "col15 = create_series_int(15)\n",
    "col15[:5]"
   ]
  },
  {
   "cell_type": "code",
   "execution_count": 19,
   "id": "048ba8b8",
   "metadata": {},
   "outputs": [
    {
     "name": "stdout",
     "output_type": "stream",
     "text": [
      "mean=3.89 std=0.77\n"
     ]
    },
    {
     "data": {
      "text/plain": [
       "[3, 4, 4, 5, 4]"
      ]
     },
     "execution_count": 19,
     "metadata": {},
     "output_type": "execute_result"
    }
   ],
   "source": [
    "col16 = create_series_int(16)\n",
    "col16[:5]"
   ]
  },
  {
   "cell_type": "code",
   "execution_count": 20,
   "id": "7cf1f71b",
   "metadata": {},
   "outputs": [
    {
     "name": "stdout",
     "output_type": "stream",
     "text": [
      "mean=2.97 std=1.07\n"
     ]
    },
    {
     "data": {
      "text/plain": [
       "[2, 2, 5, 2, 1]"
      ]
     },
     "execution_count": 20,
     "metadata": {},
     "output_type": "execute_result"
    }
   ],
   "source": [
    "col17 = create_series_int(17)\n",
    "col17[:5]"
   ]
  },
  {
   "cell_type": "code",
   "execution_count": 21,
   "id": "62cead70",
   "metadata": {},
   "outputs": [
    {
     "name": "stdout",
     "output_type": "stream",
     "text": [
      "mean=3.86 std=0.82\n"
     ]
    },
    {
     "data": {
      "text/plain": [
       "[4, 3, 4, 5, 3]"
      ]
     },
     "execution_count": 21,
     "metadata": {},
     "output_type": "execute_result"
    }
   ],
   "source": [
    "col18 = create_series_int(18)\n",
    "col18[:5]"
   ]
  },
  {
   "cell_type": "code",
   "execution_count": 22,
   "id": "861ee2ed",
   "metadata": {},
   "outputs": [],
   "source": [
    "def create_average_value(col: int):\n",
    "    d = df.iloc[:,col].value_counts(normalize=True)\n",
    "    col = np.random.choice(d.index, size=change_range[1] - change_range[0], p=d.values)\n",
    "    col = pd.Series(col)\n",
    "    return col"
   ]
  },
  {
   "cell_type": "code",
   "execution_count": 23,
   "id": "cb6271ae",
   "metadata": {},
   "outputs": [
    {
     "data": {
      "text/plain": [
       "0    Low Power Distance: Emphasis on Egalitarianism...\n",
       "1    Low Power Distance: Emphasis on Egalitarianism...\n",
       "2    Low Power Distance: Emphasis on Egalitarianism...\n",
       "3    Low Power Distance: Emphasis on Egalitarianism...\n",
       "4    Low Power Distance: Emphasis on Egalitarianism...\n",
       "dtype: object"
      ]
     },
     "execution_count": 23,
     "metadata": {},
     "output_type": "execute_result"
    }
   ],
   "source": [
    "col19 = create_average_value(19)\n",
    "col19[:5]"
   ]
  },
  {
   "cell_type": "code",
   "execution_count": 24,
   "id": "8b23ecf0",
   "metadata": {},
   "outputs": [
    {
     "data": {
      "text/plain": [
       "0    Collectivism: Value on Togetherness & Group Ac...\n",
       "1    Individualism: Value on Independence & Self-re...\n",
       "2    Individualism: Value on Independence & Self-re...\n",
       "3    Collectivism: Value on Togetherness & Group Ac...\n",
       "4    Collectivism: Value on Togetherness & Group Ac...\n",
       "dtype: object"
      ]
     },
     "execution_count": 24,
     "metadata": {},
     "output_type": "execute_result"
    }
   ],
   "source": [
    "col20 = create_average_value(20)\n",
    "col20[:5]"
   ]
  },
  {
   "cell_type": "code",
   "execution_count": 25,
   "id": "3a1ec4b6",
   "metadata": {},
   "outputs": [
    {
     "data": {
      "text/plain": [
       "0      Femininity: Emphasis on Cooperation & Nurturing\n",
       "1      Femininity: Emphasis on Cooperation & Nurturing\n",
       "2      Femininity: Emphasis on Cooperation & Nurturing\n",
       "3    Masculinity: Emphasis on Competitiveness & Ach...\n",
       "4    Masculinity: Emphasis on Competitiveness & Ach...\n",
       "dtype: object"
      ]
     },
     "execution_count": 25,
     "metadata": {},
     "output_type": "execute_result"
    }
   ],
   "source": [
    "col21 = create_average_value(21)\n",
    "col21[:5]"
   ]
  },
  {
   "cell_type": "code",
   "execution_count": 26,
   "id": "d278a080",
   "metadata": {},
   "outputs": [
    {
     "data": {
      "text/plain": [
       "0    High Uncertainty Avoidance: Need for Stability...\n",
       "1    High Uncertainty Avoidance: Need for Stability...\n",
       "2    High Uncertainty Avoidance: Need for Stability...\n",
       "3    High Uncertainty Avoidance: Need for Stability...\n",
       "4    Low Uncertainty Avoidance: Comfort with Ambigu...\n",
       "dtype: object"
      ]
     },
     "execution_count": 26,
     "metadata": {},
     "output_type": "execute_result"
    }
   ],
   "source": [
    "col22 = create_average_value(22)\n",
    "col22[:5]"
   ]
  },
  {
   "cell_type": "code",
   "execution_count": 27,
   "id": "0f0658c7",
   "metadata": {},
   "outputs": [
    {
     "data": {
      "text/plain": [
       "0    Long-term: Focus on Future Rewards & Perseverance\n",
       "1               Short-term: Focus on Immediate Results\n",
       "2               Short-term: Focus on Immediate Results\n",
       "3    Long-term: Focus on Future Rewards & Perseverance\n",
       "4    Long-term: Focus on Future Rewards & Perseverance\n",
       "dtype: object"
      ]
     },
     "execution_count": 27,
     "metadata": {},
     "output_type": "execute_result"
    }
   ],
   "source": [
    "col23 = create_average_value(23)\n",
    "col23[:5]"
   ]
  },
  {
   "cell_type": "code",
   "execution_count": 28,
   "id": "be4f569f",
   "metadata": {},
   "outputs": [
    {
     "name": "stdout",
     "output_type": "stream",
     "text": [
      "\n",
      "NEWDF:\n",
      "   0  1  2  3    4\n",
      "0  3  2  1  4  NaN\n",
      "1  5  1  2  3  NaN\n",
      "2  1  2  3  4  5.0\n",
      "3  3  2  4  1  5.0\n",
      "4  3  5  4  2  1.0\n",
      "\n",
      "\n",
      "MEANDICT\n",
      " {0: 3.081081081081081, 1: 2.5405405405405403, 2: 2.8378378378378377, 3: 3.2432432432432434, 4: 3.2285714285714286}\n",
      "\n",
      "before: fabdf_mean=6.2610965250965265\n",
      "before: fabdf_std=0.6556291751497418\n",
      "\n",
      "newdf_mean=6.027380033094319\n",
      "newdf_std=0.6871386447960877\n",
      "\n",
      "after: fabdf_mean=6.136539136539136\n",
      "after: fabdf_std=0.5986361928379734\n"
     ]
    },
    {
     "data": {
      "text/html": [
       "<div>\n",
       "<style scoped>\n",
       "    .dataframe tbody tr th:only-of-type {\n",
       "        vertical-align: middle;\n",
       "    }\n",
       "\n",
       "    .dataframe tbody tr th {\n",
       "        vertical-align: top;\n",
       "    }\n",
       "\n",
       "    .dataframe thead th {\n",
       "        text-align: right;\n",
       "    }\n",
       "</style>\n",
       "<table border=\"1\" class=\"dataframe\">\n",
       "  <thead>\n",
       "    <tr style=\"text-align: right;\">\n",
       "      <th></th>\n",
       "      <th>0</th>\n",
       "      <th>1</th>\n",
       "      <th>2</th>\n",
       "      <th>3</th>\n",
       "      <th>4</th>\n",
       "    </tr>\n",
       "  </thead>\n",
       "  <tbody>\n",
       "    <tr>\n",
       "      <th>0</th>\n",
       "      <td>5th</td>\n",
       "      <td>4th</td>\n",
       "      <td>2nd</td>\n",
       "      <td>3rd</td>\n",
       "      <td>1st</td>\n",
       "    </tr>\n",
       "    <tr>\n",
       "      <th>1</th>\n",
       "      <td>3rd</td>\n",
       "      <td>2nd</td>\n",
       "      <td>5th</td>\n",
       "      <td>1st</td>\n",
       "      <td>4th</td>\n",
       "    </tr>\n",
       "    <tr>\n",
       "      <th>2</th>\n",
       "      <td>3rd</td>\n",
       "      <td>5th</td>\n",
       "      <td>1st</td>\n",
       "      <td>2nd</td>\n",
       "      <td>4th</td>\n",
       "    </tr>\n",
       "    <tr>\n",
       "      <th>3</th>\n",
       "      <td>5th</td>\n",
       "      <td>4th</td>\n",
       "      <td>3rd</td>\n",
       "      <td>2nd</td>\n",
       "      <td>1st</td>\n",
       "    </tr>\n",
       "    <tr>\n",
       "      <th>4</th>\n",
       "      <td>3rd</td>\n",
       "      <td>2nd</td>\n",
       "      <td>1st</td>\n",
       "      <td>5th</td>\n",
       "      <td>4th</td>\n",
       "    </tr>\n",
       "  </tbody>\n",
       "</table>\n",
       "</div>"
      ],
      "text/plain": [
       "     0    1    2    3    4\n",
       "0  5th  4th  2nd  3rd  1st\n",
       "1  3rd  2nd  5th  1st  4th\n",
       "2  3rd  5th  1st  2nd  4th\n",
       "3  5th  4th  3rd  2nd  1st\n",
       "4  3rd  2nd  1st  5th  4th"
      ]
     },
     "execution_count": 28,
     "metadata": {},
     "output_type": "execute_result"
    }
   ],
   "source": [
    "col24 = create_ranking([24, 25,26,27, 28], 100, change_range[1] - change_range[0])\n",
    "col24.head()"
   ]
  },
  {
   "cell_type": "code",
   "execution_count": 29,
   "id": "8bb6acee",
   "metadata": {},
   "outputs": [
    {
     "data": {
      "text/plain": [
       "0    18-27\n",
       "1    18-27\n",
       "2    18-27\n",
       "3    18-27\n",
       "4    18-27\n",
       "dtype: object"
      ]
     },
     "execution_count": 29,
     "metadata": {},
     "output_type": "execute_result"
    }
   ],
   "source": [
    "col30 = create_average_value(30)\n",
    "col30[:5]"
   ]
  },
  {
   "cell_type": "code",
   "execution_count": 30,
   "id": "713a7bb3",
   "metadata": {},
   "outputs": [
    {
     "data": {
      "text/plain": [
       "0    Female\n",
       "1      Male\n",
       "2      Male\n",
       "3      Male\n",
       "4    Female\n",
       "dtype: object"
      ]
     },
     "execution_count": 30,
     "metadata": {},
     "output_type": "execute_result"
    }
   ],
   "source": [
    "col31 = create_average_value(31)\n",
    "col31[:5]"
   ]
  },
  {
   "cell_type": "code",
   "execution_count": 31,
   "id": "8e4da272",
   "metadata": {},
   "outputs": [
    {
     "data": {
      "text/plain": [
       "0    More than 500 employees\n",
       "1     Less than 10 employees\n",
       "2     Less than 10 employees\n",
       "3     Less than 10 employees\n",
       "4     Less than 10 employees\n",
       "dtype: object"
      ]
     },
     "execution_count": 31,
     "metadata": {},
     "output_type": "execute_result"
    }
   ],
   "source": [
    "col34 = create_average_value(34)\n",
    "col34[:5]"
   ]
  },
  {
   "cell_type": "code",
   "execution_count": 32,
   "id": "c4e44bd6",
   "metadata": {},
   "outputs": [
    {
     "data": {
      "text/plain": [
       "0     Full time\n",
       "1     Full time\n",
       "2     Part time\n",
       "3    Internship\n",
       "4     Full time\n",
       "dtype: object"
      ]
     },
     "execution_count": 32,
     "metadata": {},
     "output_type": "execute_result"
    }
   ],
   "source": [
    "col36 = create_average_value(36)\n",
    "col36[:5]"
   ]
  },
  {
   "cell_type": "code",
   "execution_count": 33,
   "id": "429c59bd",
   "metadata": {},
   "outputs": [
    {
     "data": {
      "text/plain": [
       "0    Studying in University\n",
       "1                       Yes\n",
       "2                       Yes\n",
       "3                       Yes\n",
       "4                       Yes\n",
       "dtype: object"
      ]
     },
     "execution_count": 33,
     "metadata": {},
     "output_type": "execute_result"
    }
   ],
   "source": [
    "col37 = create_average_value(37)\n",
    "col37[:5]"
   ]
  },
  {
   "cell_type": "code",
   "execution_count": 34,
   "id": "2a5a8ba6",
   "metadata": {},
   "outputs": [],
   "source": [
    "allcolumns = [\n",
    "    col0,\n",
    "    col1,\n",
    "    col2,\n",
    "    col3,\n",
    "    col4,\n",
    "    col5,\n",
    "    col6,\n",
    "    col7,\n",
    "    col8,\n",
    "    col9,\n",
    "    col10, # 10 - 13\n",
    "    col14,\n",
    "    col15,\n",
    "    col16,\n",
    "    col17,\n",
    "    col18,\n",
    "    col19,\n",
    "    col20,\n",
    "    col21,\n",
    "    col22,\n",
    "    col23,\n",
    "    col24, # 24 - 29\n",
    "    col30,\n",
    "    col31,\n",
    "    col34,\n",
    "    col36,\n",
    "    col37,\n",
    "    \n",
    "]\n",
    "finaldf = pd.DataFrame()"
   ]
  },
  {
   "cell_type": "code",
   "execution_count": 35,
   "id": "29bec912",
   "metadata": {},
   "outputs": [
    {
     "data": {
      "text/html": [
       "<div>\n",
       "<style scoped>\n",
       "    .dataframe tbody tr th:only-of-type {\n",
       "        vertical-align: middle;\n",
       "    }\n",
       "\n",
       "    .dataframe tbody tr th {\n",
       "        vertical-align: top;\n",
       "    }\n",
       "\n",
       "    .dataframe thead th {\n",
       "        text-align: right;\n",
       "    }\n",
       "</style>\n",
       "<table border=\"1\" class=\"dataframe\">\n",
       "  <thead>\n",
       "    <tr style=\"text-align: right;\">\n",
       "      <th></th>\n",
       "      <th>colA</th>\n",
       "      <th>colB</th>\n",
       "      <th>colC</th>\n",
       "      <th>colD</th>\n",
       "      <th>colE</th>\n",
       "      <th>colF</th>\n",
       "      <th>colG</th>\n",
       "      <th>colH</th>\n",
       "      <th>colI</th>\n",
       "      <th>colJ</th>\n",
       "      <th>...</th>\n",
       "      <th>colV_0</th>\n",
       "      <th>colV_1</th>\n",
       "      <th>colV_2</th>\n",
       "      <th>colV_3</th>\n",
       "      <th>colV_4</th>\n",
       "      <th>colW</th>\n",
       "      <th>colX</th>\n",
       "      <th>colY</th>\n",
       "      <th>colZ</th>\n",
       "      <th>col[</th>\n",
       "    </tr>\n",
       "  </thead>\n",
       "  <tbody>\n",
       "    <tr>\n",
       "      <th>0</th>\n",
       "      <td>2023-10-29 10:06:33.15</td>\n",
       "      <td>I accept the conditions</td>\n",
       "      <td>5</td>\n",
       "      <td>4</td>\n",
       "      <td>4</td>\n",
       "      <td>3</td>\n",
       "      <td>5</td>\n",
       "      <td>4</td>\n",
       "      <td>3</td>\n",
       "      <td>3</td>\n",
       "      <td>...</td>\n",
       "      <td>5th</td>\n",
       "      <td>4th</td>\n",
       "      <td>2nd</td>\n",
       "      <td>3rd</td>\n",
       "      <td>1st</td>\n",
       "      <td>18-27</td>\n",
       "      <td>Female</td>\n",
       "      <td>More than 500 employees</td>\n",
       "      <td>Full time</td>\n",
       "      <td>Studying in University</td>\n",
       "    </tr>\n",
       "    <tr>\n",
       "      <th>1</th>\n",
       "      <td>2023-10-29 10:08:38.04</td>\n",
       "      <td>I accept the conditions</td>\n",
       "      <td>4</td>\n",
       "      <td>5</td>\n",
       "      <td>3</td>\n",
       "      <td>5</td>\n",
       "      <td>5</td>\n",
       "      <td>4</td>\n",
       "      <td>2</td>\n",
       "      <td>3</td>\n",
       "      <td>...</td>\n",
       "      <td>3rd</td>\n",
       "      <td>2nd</td>\n",
       "      <td>5th</td>\n",
       "      <td>1st</td>\n",
       "      <td>4th</td>\n",
       "      <td>18-27</td>\n",
       "      <td>Male</td>\n",
       "      <td>Less than 10 employees</td>\n",
       "      <td>Full time</td>\n",
       "      <td>Yes</td>\n",
       "    </tr>\n",
       "    <tr>\n",
       "      <th>2</th>\n",
       "      <td>2023-10-29 10:15:55.04</td>\n",
       "      <td>I accept the conditions</td>\n",
       "      <td>4</td>\n",
       "      <td>5</td>\n",
       "      <td>4</td>\n",
       "      <td>3</td>\n",
       "      <td>4</td>\n",
       "      <td>5</td>\n",
       "      <td>4</td>\n",
       "      <td>5</td>\n",
       "      <td>...</td>\n",
       "      <td>3rd</td>\n",
       "      <td>5th</td>\n",
       "      <td>1st</td>\n",
       "      <td>2nd</td>\n",
       "      <td>4th</td>\n",
       "      <td>18-27</td>\n",
       "      <td>Male</td>\n",
       "      <td>Less than 10 employees</td>\n",
       "      <td>Part time</td>\n",
       "      <td>Yes</td>\n",
       "    </tr>\n",
       "    <tr>\n",
       "      <th>3</th>\n",
       "      <td>2023-10-29 10:36:37.33</td>\n",
       "      <td>I accept the conditions</td>\n",
       "      <td>3</td>\n",
       "      <td>3</td>\n",
       "      <td>3</td>\n",
       "      <td>3</td>\n",
       "      <td>4</td>\n",
       "      <td>3</td>\n",
       "      <td>4</td>\n",
       "      <td>4</td>\n",
       "      <td>...</td>\n",
       "      <td>5th</td>\n",
       "      <td>4th</td>\n",
       "      <td>3rd</td>\n",
       "      <td>2nd</td>\n",
       "      <td>1st</td>\n",
       "      <td>18-27</td>\n",
       "      <td>Male</td>\n",
       "      <td>Less than 10 employees</td>\n",
       "      <td>Internship</td>\n",
       "      <td>Yes</td>\n",
       "    </tr>\n",
       "    <tr>\n",
       "      <th>4</th>\n",
       "      <td>2023-10-29 10:37:00.59</td>\n",
       "      <td>I accept the conditions</td>\n",
       "      <td>5</td>\n",
       "      <td>3</td>\n",
       "      <td>4</td>\n",
       "      <td>5</td>\n",
       "      <td>3</td>\n",
       "      <td>4</td>\n",
       "      <td>4</td>\n",
       "      <td>2</td>\n",
       "      <td>...</td>\n",
       "      <td>3rd</td>\n",
       "      <td>2nd</td>\n",
       "      <td>1st</td>\n",
       "      <td>5th</td>\n",
       "      <td>4th</td>\n",
       "      <td>18-27</td>\n",
       "      <td>Female</td>\n",
       "      <td>Less than 10 employees</td>\n",
       "      <td>Full time</td>\n",
       "      <td>Yes</td>\n",
       "    </tr>\n",
       "    <tr>\n",
       "      <th>...</th>\n",
       "      <td>...</td>\n",
       "      <td>...</td>\n",
       "      <td>...</td>\n",
       "      <td>...</td>\n",
       "      <td>...</td>\n",
       "      <td>...</td>\n",
       "      <td>...</td>\n",
       "      <td>...</td>\n",
       "      <td>...</td>\n",
       "      <td>...</td>\n",
       "      <td>...</td>\n",
       "      <td>...</td>\n",
       "      <td>...</td>\n",
       "      <td>...</td>\n",
       "      <td>...</td>\n",
       "      <td>...</td>\n",
       "      <td>...</td>\n",
       "      <td>...</td>\n",
       "      <td>...</td>\n",
       "      <td>...</td>\n",
       "      <td>...</td>\n",
       "    </tr>\n",
       "    <tr>\n",
       "      <th>83</th>\n",
       "      <td>2023-11-08 10:02:57.23</td>\n",
       "      <td>I accept the conditions</td>\n",
       "      <td>3</td>\n",
       "      <td>4</td>\n",
       "      <td>5</td>\n",
       "      <td>5</td>\n",
       "      <td>3</td>\n",
       "      <td>3</td>\n",
       "      <td>3</td>\n",
       "      <td>4</td>\n",
       "      <td>...</td>\n",
       "      <td>3rd</td>\n",
       "      <td>1st</td>\n",
       "      <td>2nd</td>\n",
       "      <td>5th</td>\n",
       "      <td>4th</td>\n",
       "      <td>18-27</td>\n",
       "      <td>Female</td>\n",
       "      <td>More than 500 employees</td>\n",
       "      <td>Full time</td>\n",
       "      <td>Yes</td>\n",
       "    </tr>\n",
       "    <tr>\n",
       "      <th>84</th>\n",
       "      <td>2023-11-08 10:18:14.82</td>\n",
       "      <td>I accept the conditions</td>\n",
       "      <td>5</td>\n",
       "      <td>3</td>\n",
       "      <td>4</td>\n",
       "      <td>4</td>\n",
       "      <td>4</td>\n",
       "      <td>3</td>\n",
       "      <td>4</td>\n",
       "      <td>3</td>\n",
       "      <td>...</td>\n",
       "      <td>4th</td>\n",
       "      <td>2nd</td>\n",
       "      <td>1st</td>\n",
       "      <td>5th</td>\n",
       "      <td>3rd</td>\n",
       "      <td>18-27</td>\n",
       "      <td>Male</td>\n",
       "      <td>11 to 25 employees</td>\n",
       "      <td>Internship</td>\n",
       "      <td>Yes</td>\n",
       "    </tr>\n",
       "    <tr>\n",
       "      <th>85</th>\n",
       "      <td>2023-11-08 10:19:18.32</td>\n",
       "      <td>I accept the conditions</td>\n",
       "      <td>3</td>\n",
       "      <td>4</td>\n",
       "      <td>5</td>\n",
       "      <td>5</td>\n",
       "      <td>3</td>\n",
       "      <td>4</td>\n",
       "      <td>4</td>\n",
       "      <td>4</td>\n",
       "      <td>...</td>\n",
       "      <td>3rd</td>\n",
       "      <td>4th</td>\n",
       "      <td>2nd</td>\n",
       "      <td>5th</td>\n",
       "      <td>1st</td>\n",
       "      <td>18-27</td>\n",
       "      <td>Male</td>\n",
       "      <td>More than 500 employees</td>\n",
       "      <td>Part time</td>\n",
       "      <td>Yes</td>\n",
       "    </tr>\n",
       "    <tr>\n",
       "      <th>86</th>\n",
       "      <td>2023-11-08 12:22:07.96</td>\n",
       "      <td>I accept the conditions</td>\n",
       "      <td>4</td>\n",
       "      <td>4</td>\n",
       "      <td>4</td>\n",
       "      <td>4</td>\n",
       "      <td>4</td>\n",
       "      <td>3</td>\n",
       "      <td>4</td>\n",
       "      <td>1</td>\n",
       "      <td>...</td>\n",
       "      <td>3rd</td>\n",
       "      <td>5th</td>\n",
       "      <td>2nd</td>\n",
       "      <td>1st</td>\n",
       "      <td>4th</td>\n",
       "      <td>18-27</td>\n",
       "      <td>Female</td>\n",
       "      <td>More than 500 employees</td>\n",
       "      <td>Full time</td>\n",
       "      <td>Yes</td>\n",
       "    </tr>\n",
       "    <tr>\n",
       "      <th>87</th>\n",
       "      <td>2023-11-08 23:57:15.79</td>\n",
       "      <td>I accept the conditions</td>\n",
       "      <td>4</td>\n",
       "      <td>4</td>\n",
       "      <td>5</td>\n",
       "      <td>3</td>\n",
       "      <td>5</td>\n",
       "      <td>4</td>\n",
       "      <td>4</td>\n",
       "      <td>5</td>\n",
       "      <td>...</td>\n",
       "      <td>3rd</td>\n",
       "      <td>5th</td>\n",
       "      <td>4th</td>\n",
       "      <td>1st</td>\n",
       "      <td>2nd</td>\n",
       "      <td>18-27</td>\n",
       "      <td>Female</td>\n",
       "      <td>25-500 employees</td>\n",
       "      <td>Full time</td>\n",
       "      <td>Yes</td>\n",
       "    </tr>\n",
       "  </tbody>\n",
       "</table>\n",
       "<p>88 rows × 34 columns</p>\n",
       "</div>"
      ],
      "text/plain": [
       "                      colA                     colB  colC  colD  colE  colF  \\\n",
       "0   2023-10-29 10:06:33.15  I accept the conditions     5     4     4     3   \n",
       "1   2023-10-29 10:08:38.04  I accept the conditions     4     5     3     5   \n",
       "2   2023-10-29 10:15:55.04  I accept the conditions     4     5     4     3   \n",
       "3   2023-10-29 10:36:37.33  I accept the conditions     3     3     3     3   \n",
       "4   2023-10-29 10:37:00.59  I accept the conditions     5     3     4     5   \n",
       "..                     ...                      ...   ...   ...   ...   ...   \n",
       "83  2023-11-08 10:02:57.23  I accept the conditions     3     4     5     5   \n",
       "84  2023-11-08 10:18:14.82  I accept the conditions     5     3     4     4   \n",
       "85  2023-11-08 10:19:18.32  I accept the conditions     3     4     5     5   \n",
       "86  2023-11-08 12:22:07.96  I accept the conditions     4     4     4     4   \n",
       "87  2023-11-08 23:57:15.79  I accept the conditions     4     4     5     3   \n",
       "\n",
       "    colG  colH  colI  colJ  ... colV_0 colV_1 colV_2 colV_3  colV_4   colW  \\\n",
       "0      5     4     3     3  ...    5th    4th    2nd    3rd     1st  18-27   \n",
       "1      5     4     2     3  ...    3rd    2nd    5th    1st     4th  18-27   \n",
       "2      4     5     4     5  ...    3rd    5th    1st    2nd     4th  18-27   \n",
       "3      4     3     4     4  ...    5th    4th    3rd    2nd     1st  18-27   \n",
       "4      3     4     4     2  ...    3rd    2nd    1st    5th     4th  18-27   \n",
       "..   ...   ...   ...   ...  ...    ...    ...    ...    ...     ...    ...   \n",
       "83     3     3     3     4  ...    3rd    1st    2nd    5th     4th  18-27   \n",
       "84     4     3     4     3  ...    4th    2nd    1st    5th     3rd  18-27   \n",
       "85     3     4     4     4  ...    3rd    4th    2nd    5th     1st  18-27   \n",
       "86     4     3     4     1  ...    3rd    5th    2nd    1st     4th  18-27   \n",
       "87     5     4     4     5  ...    3rd    5th    4th    1st     2nd  18-27   \n",
       "\n",
       "      colX                     colY        colZ                    col[  \n",
       "0   Female  More than 500 employees   Full time  Studying in University  \n",
       "1     Male   Less than 10 employees   Full time                     Yes  \n",
       "2     Male   Less than 10 employees   Part time                     Yes  \n",
       "3     Male   Less than 10 employees  Internship                     Yes  \n",
       "4   Female   Less than 10 employees   Full time                     Yes  \n",
       "..     ...                      ...         ...                     ...  \n",
       "83  Female  More than 500 employees   Full time                     Yes  \n",
       "84    Male       11 to 25 employees  Internship                     Yes  \n",
       "85    Male  More than 500 employees   Part time                     Yes  \n",
       "86  Female  More than 500 employees   Full time                     Yes  \n",
       "87  Female         25-500 employees   Full time                     Yes  \n",
       "\n",
       "[88 rows x 34 columns]"
      ]
     },
     "execution_count": 35,
     "metadata": {},
     "output_type": "execute_result"
    }
   ],
   "source": [
    "for i, data in enumerate(allcolumns):\n",
    "    col_prefix = 'col' + chr(ord('A') + i)\n",
    "\n",
    "    # Check if data is a DataFrame\n",
    "    if isinstance(data, pd.DataFrame):\n",
    "        # If data is a DataFrame, add each of its columns to df\n",
    "        for j, col in enumerate(data.columns):\n",
    "            finaldf[col_prefix + '_' + str(j)] = data[col]\n",
    "    else:\n",
    "        # If data is a list or Series, add it as a new column to df\n",
    "        finaldf[col_prefix] = data\n",
    "        \n",
    "finaldf"
   ]
  },
  {
   "cell_type": "code",
   "execution_count": 36,
   "id": "a485cb49",
   "metadata": {},
   "outputs": [],
   "source": [
    "finaldf.to_csv(\"output2.csv\", index=False)"
   ]
  },
  {
   "cell_type": "code",
   "execution_count": 37,
   "id": "cc654104",
   "metadata": {},
   "outputs": [
    {
     "name": "stdout",
     "output_type": "stream",
     "text": [
      "Full time\n",
      "Full time\n",
      "Part time\n",
      "Internship\n",
      "Full time\n",
      "Full time\n",
      "Full time\n",
      "Self employed \n",
      "Part time\n",
      "Full time\n",
      "Internship\n",
      "Internship\n",
      "Part time\n",
      "Part time\n",
      "Full time\n",
      "Part time\n",
      "Full time\n",
      "Internship\n",
      "Internship\n",
      "Full time\n",
      "Internship\n",
      "Full time\n",
      "Full time\n",
      "Full time\n",
      "Full time\n"
     ]
    }
   ],
   "source": [
    "for i in col36.head(25):\n",
    "    print(i)"
   ]
  },
  {
   "cell_type": "code",
   "execution_count": null,
   "id": "d67d25c3",
   "metadata": {},
   "outputs": [],
   "source": []
  }
 ],
 "metadata": {
  "kernelspec": {
   "display_name": "Python 3 (ipykernel)",
   "language": "python",
   "name": "python3"
  },
  "language_info": {
   "codemirror_mode": {
    "name": "ipython",
    "version": 3
   },
   "file_extension": ".py",
   "mimetype": "text/x-python",
   "name": "python",
   "nbconvert_exporter": "python",
   "pygments_lexer": "ipython3",
   "version": "3.11.5"
  }
 },
 "nbformat": 4,
 "nbformat_minor": 5
}
